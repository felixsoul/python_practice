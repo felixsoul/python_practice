{
 "cells": [
  {
   "cell_type": "code",
   "execution_count": 2,
   "metadata": {},
   "outputs": [
    {
     "name": "stdout",
     "output_type": "stream",
     "text": [
      "M\n",
      "a\n",
      "t\n",
      "p\n",
      "l\n",
      "o\n",
      "t\n",
      "l\n",
      "i\n",
      "b\n",
      "Matplotlib\n",
      "NumPy\n",
      "Seaborn\n",
      "Pandas\n",
      "Plotly\n",
      "SK-learn\n"
     ]
    }
   ],
   "source": [
    "str_for_loop = 'Matplotlib'\n",
    "for str_idx in str_for_loop:\n",
    "    print(str_idx)\n",
    "\n",
    "list_for_loop = ['Matplotlib', 'NumPy', 'Seaborn', 'Pandas', 'Plotly','SK-learn']\n",
    "for item_idx in list_for_loop:\n",
    "    print(item_idx)\n",
    "\n"
   ]
  }
 ],
 "metadata": {
  "kernelspec": {
   "display_name": "base",
   "language": "python",
   "name": "python3"
  },
  "language_info": {
   "codemirror_mode": {
    "name": "ipython",
    "version": 3
   },
   "file_extension": ".py",
   "mimetype": "text/x-python",
   "name": "python",
   "nbconvert_exporter": "python",
   "pygments_lexer": "ipython3",
   "version": "3.11.7"
  }
 },
 "nbformat": 4,
 "nbformat_minor": 2
}
