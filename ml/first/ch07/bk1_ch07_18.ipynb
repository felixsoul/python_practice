{
 "cells": [
  {
   "cell_type": "code",
   "execution_count": 1,
   "metadata": {},
   "outputs": [
    {
     "name": "stdout",
     "output_type": "stream",
     "text": [
      "Time used: 0.011523723602294922\n",
      "[[4051 3932 4224 ... 3958 3993 4346]\n",
      " [3988 4386 4012 ... 4369 4035 4577]\n",
      " [4056 3981 3941 ... 4098 3770 4192]\n",
      " ...\n",
      " [3919 3823 4102 ... 4080 3777 4257]\n",
      " [3956 3988 4129 ... 3896 4198 4394]\n",
      " [3848 3781 3910 ... 4185 3455 4320]]\n",
      "Time used: 3.9271903038024902\n",
      "[[4051. 3932. 4224. ... 3958. 3993. 4346.]\n",
      " [3988. 4386. 4012. ... 4369. 4035. 4577.]\n",
      " [4056. 3981. 3941. ... 4098. 3770. 4192.]\n",
      " ...\n",
      " [3919. 3823. 4102. ... 4080. 3777. 4257.]\n",
      " [3956. 3988. 4129. ... 3896. 4198. 4394.]\n",
      " [3848. 3781. 3910. ... 4185. 3455. 4320.]]\n"
     ]
    }
   ],
   "source": [
    "from numpy.random import randint\n",
    "import time\n",
    "import numpy as np\n",
    "\n",
    "num = 200\n",
    "\n",
    "A = randint(0,10,size=(num,num))\n",
    "B = randint(0,10,size=(num,num))\n",
    "\n",
    "start_time = time.time()\n",
    "C_1 = A@B\n",
    "stop_time = time.time()\n",
    "time_used = stop_time - start_time\n",
    "print(f\"Time used: {time_used}\")\n",
    "print(C_1)\n",
    "\n",
    "C_2 = np.zeros((num,num))\n",
    "start_time = time.time()\n",
    "for i in range(num):\n",
    "    for j in range(num):\n",
    "        for k in range(num):\n",
    "            C_2[i,j] += A[i,k]*B[k,j]\n",
    "time_used = time.time() - start_time\n",
    "print(f\"Time used: {time_used}\")\n",
    "print(C_2)"
   ]
  }
 ],
 "metadata": {
  "kernelspec": {
   "display_name": "base",
   "language": "python",
   "name": "python3"
  },
  "language_info": {
   "codemirror_mode": {
    "name": "ipython",
    "version": 3
   },
   "file_extension": ".py",
   "mimetype": "text/x-python",
   "name": "python",
   "nbconvert_exporter": "python",
   "pygments_lexer": "ipython3",
   "version": "3.11.5"
  }
 },
 "nbformat": 4,
 "nbformat_minor": 2
}
