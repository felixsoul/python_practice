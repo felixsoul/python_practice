{
 "cells": [
  {
   "cell_type": "code",
   "execution_count": null,
   "metadata": {},
   "outputs": [],
   "source": [
    "A = [[1, 2, 10, 20],\n",
    "[3, 4, 30, 40],\n",
    "[5, 6, 50, 60]]\n",
    "B = [[4, 2],\n",
    "[3, 1],\n",
    "[40, 20],\n",
    "[30, 10]]\n",
    "# 定义全 0 矩阵 C 用来存放结果\n",
    "C = [[0, 0],\n",
    "[0, 0],\n",
    "[0, 0]]\n",
    "\n",
    "for a in r\n"
   ]
  }
 ],
 "metadata": {
  "language_info": {
   "name": "python"
  }
 },
 "nbformat": 4,
 "nbformat_minor": 2
}
