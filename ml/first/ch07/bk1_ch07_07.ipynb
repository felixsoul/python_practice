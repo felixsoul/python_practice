{
 "cells": [
  {
   "cell_type": "code",
   "execution_count": 4,
   "metadata": {},
   "outputs": [
    {
     "name": "stdout",
     "output_type": "stream",
     "text": [
      "数值不在0～100之间\n"
     ]
    }
   ],
   "source": [
    "value =  input(\"请输入一个数值:\")\n",
    "\n",
    "if value.isdigit():\n",
    "    number = int(value)\n",
    "    if 0<=number<=100:\n",
    "        if number<60:\n",
    "            print(\"不及格\")\n",
    "        else:\n",
    "            print(\"及格\")\n",
    "    else:\n",
    "        print(\"数值不在0～100之间\")\n",
    "else:\n",
    "    print(\"输入的不是一个数值\")"
   ]
  }
 ],
 "metadata": {
  "kernelspec": {
   "display_name": "base",
   "language": "python",
   "name": "python3"
  },
  "language_info": {
   "codemirror_mode": {
    "name": "ipython",
    "version": 3
   },
   "file_extension": ".py",
   "mimetype": "text/x-python",
   "name": "python",
   "nbconvert_exporter": "python",
   "pygments_lexer": "ipython3",
   "version": "3.11.7"
  }
 },
 "nbformat": 4,
 "nbformat_minor": 2
}
