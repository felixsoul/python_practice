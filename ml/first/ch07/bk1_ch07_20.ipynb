{
 "cells": [
  {
   "cell_type": "code",
   "execution_count": 8,
   "metadata": {},
   "outputs": [
    {
     "name": "stdout",
     "output_type": "stream",
     "text": [
      "[[1, 4], [2, 5], [3, 6]]\n",
      "([1, 2, 3],)\n",
      "([4, 5, 6],)\n"
     ]
    }
   ],
   "source": [
    "def transpose(matrix):\n",
    "    \"\"\"Transpose a matrix.\"\"\"\n",
    "    if not matrix:\n",
    "        return []\n",
    "    transposed = []\n",
    "    rows = len(matrix)\n",
    "    cols = len(matrix[0])\n",
    "    for j in range(cols):\n",
    "        transposed.append([matrix[i][j] for i in range(rows)])\n",
    "    return transposed\n",
    "    #return [list(i) for i in zip(*matrix)]\n",
    "\n",
    "matrix = [[1, 2, 3], [4, 5, 6]]\n",
    "print(transpose(matrix))\n",
    "\n",
    "for i in zip(matrix):\n",
    "    print(i)"
   ]
  }
 ],
 "metadata": {
  "kernelspec": {
   "display_name": "base",
   "language": "python",
   "name": "python3"
  },
  "language_info": {
   "codemirror_mode": {
    "name": "ipython",
    "version": 3
   },
   "file_extension": ".py",
   "mimetype": "text/x-python",
   "name": "python",
   "nbconvert_exporter": "python",
   "pygments_lexer": "ipython3",
   "version": "3.11.5"
  }
 },
 "nbformat": 4,
 "nbformat_minor": 2
}
